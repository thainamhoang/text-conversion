{
 "cells": [
  {
   "cell_type": "code",
   "execution_count": 1,
   "metadata": {},
   "outputs": [],
   "source": [
    "# Import dependencies\n",
    "import pytesseract as pyt \n",
    "from PIL import Image"
   ]
  },
  {
   "cell_type": "code",
   "execution_count": 2,
   "metadata": {},
   "outputs": [],
   "source": [
    "# Conversion\n",
    "path_img = 'data/test_file_0.jpg' # File path\n",
    "img = Image.open(path_img) # Open image\n",
    "width, height = img.size # Define image size"
   ]
  },
  {
   "cell_type": "code",
   "execution_count": 3,
   "metadata": {},
   "outputs": [],
   "source": [
    "# Parameter for image.crop: left, top, right, bottom\n",
    "# Default: left = 0, top = 0, right = width, bottom = height\n",
    "\n",
    "img_crop = img.crop((width / 3.14, 275, width, height * 5 / 6)) # Create a new object aka a cropped image\n",
    "img_crop.show() # Show image"
   ]
  },
  {
   "cell_type": "code",
   "execution_count": 4,
   "metadata": {},
   "outputs": [],
   "source": [
    "text = pyt.image_to_string(img_crop) # OCR images to text string"
   ]
  },
  {
   "cell_type": "code",
   "execution_count": 5,
   "metadata": {},
   "outputs": [],
   "source": [
    "# Save file\n",
    "file = open(\"file.txt\", \"a+\") # Append texts into text file, text file will be create if not existed\n",
    "file.write(\"\\n\") # New line\n",
    "file.write(text) # Add texts\n",
    "\n",
    "file.close() # Close"
   ]
  }
 ],
 "metadata": {
  "kernelspec": {
   "display_name": "Python 3",
   "language": "python",
   "name": "python3"
  },
  "language_info": {
   "codemirror_mode": {
    "name": "ipython",
    "version": 3
   },
   "file_extension": ".py",
   "mimetype": "text/x-python",
   "name": "python",
   "nbconvert_exporter": "python",
   "pygments_lexer": "ipython3",
   "version": "3.8.1"
  }
 },
 "nbformat": 4,
 "nbformat_minor": 4
}
