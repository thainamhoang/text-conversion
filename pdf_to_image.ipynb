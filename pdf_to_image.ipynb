{
 "cells": [
  {
   "cell_type": "code",
   "execution_count": 1,
   "metadata": {},
   "outputs": [],
   "source": [
    "# Import dependencies\n",
    "import pdf2image as p2i\n",
    "import os"
   ]
  },
  {
   "cell_type": "code",
   "execution_count": 2,
   "metadata": {},
   "outputs": [],
   "source": [
    "# Conversion\n",
    "path_pdf = '/Users/thainam/Documents/GitHub/text-conversion/data/test_file.pdf' # File path\n",
    "pages = p2i.convert_from_path(path_pdf, 350) # Convert from path, @param: dir, dpi value\n",
    "path_pdf = path_pdf[:-4] # Tuple constant"
   ]
  },
  {
   "cell_type": "code",
   "execution_count": 3,
   "metadata": {},
   "outputs": [],
   "source": [
    "# Save files\n",
    "for page in pages:\n",
    "    page.save(\"%s_%d.jpg\" % (path_pdf, pages.index(page)), \"JPEG\") # Save and enumerate file names, extension \"JPEG\""
   ]
  }
 ],
 "metadata": {
  "kernelspec": {
   "display_name": "Python 3",
   "language": "python",
   "name": "python3"
  },
  "language_info": {
   "codemirror_mode": {
    "name": "ipython",
    "version": 3
   },
   "file_extension": ".py",
   "mimetype": "text/x-python",
   "name": "python",
   "nbconvert_exporter": "python",
   "pygments_lexer": "ipython3",
   "version": "3.8.1"
  }
 },
 "nbformat": 4,
 "nbformat_minor": 4
}
